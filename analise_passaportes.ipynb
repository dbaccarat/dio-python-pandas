{
  "nbformat": 4,
  "nbformat_minor": 0,
  "metadata": {
    "colab": {
      "name": "analise_passaportes.ipynb",
      "provenance": [],
      "authorship_tag": "ABX9TyPPssWk1CCBKH0IsfREQCLo",
      "include_colab_link": true
    },
    "kernelspec": {
      "name": "python3",
      "display_name": "Python 3"
    },
    "language_info": {
      "name": "python"
    }
  },
  "cells": [
    {
      "cell_type": "markdown",
      "metadata": {
        "id": "view-in-github",
        "colab_type": "text"
      },
      "source": [
        "<a href=\"https://colab.research.google.com/github/dbaccarat/dio-python-pandas/blob/main/analise_passaportes.ipynb\" target=\"_parent\"><img src=\"https://colab.research.google.com/assets/colab-badge.svg\" alt=\"Open In Colab\"/></a>"
      ]
    },
    {
      "cell_type": "markdown",
      "metadata": {
        "id": "ofIimEBrRXaR"
      },
      "source": [
        "# Analise de emissoes de passaportes\n",
        "\n",
        "Fonte: https://servicos.dpf.gov.br/dadosabertos/SINPA/\n"
      ]
    },
    {
      "cell_type": "code",
      "metadata": {
        "id": "p8vOtFTLQ7F1"
      },
      "source": [
        "#importando bibliotecas\n",
        "import pandas as pd\n",
        "import matplotlib.pyplot as plt\n",
        "plt.style.use(\"seaborn\")"
      ],
      "execution_count": 1,
      "outputs": []
    },
    {
      "cell_type": "code",
      "metadata": {
        "id": "QN4RFJ09SW79"
      },
      "source": [
        "#cria dataframe\n",
        "df = pd.read_csv(\"QUANTIDADE_PASSAPORTES.csv\", sep=\";\")"
      ],
      "execution_count": 5,
      "outputs": []
    },
    {
      "cell_type": "code",
      "metadata": {
        "colab": {
          "base_uri": "https://localhost:8080/",
          "height": 203
        },
        "id": "h7QFN43nSqhe",
        "outputId": "cbdd2fb0-13b0-4de3-a26d-d1819c4764f8"
      },
      "source": [
        "#le as primeiras 5 linhas\n",
        "df.head()"
      ],
      "execution_count": 6,
      "outputs": [
        {
          "output_type": "execute_result",
          "data": {
            "text/html": [
              "<div>\n",
              "<style scoped>\n",
              "    .dataframe tbody tr th:only-of-type {\n",
              "        vertical-align: middle;\n",
              "    }\n",
              "\n",
              "    .dataframe tbody tr th {\n",
              "        vertical-align: top;\n",
              "    }\n",
              "\n",
              "    .dataframe thead th {\n",
              "        text-align: right;\n",
              "    }\n",
              "</style>\n",
              "<table border=\"1\" class=\"dataframe\">\n",
              "  <thead>\n",
              "    <tr style=\"text-align: right;\">\n",
              "      <th></th>\n",
              "      <th>ANO</th>\n",
              "      <th>MES</th>\n",
              "      <th>UF</th>\n",
              "      <th>TIPO_PASSAPORTE</th>\n",
              "      <th>QTD</th>\n",
              "    </tr>\n",
              "  </thead>\n",
              "  <tbody>\n",
              "    <tr>\n",
              "      <th>0</th>\n",
              "      <td>2007</td>\n",
              "      <td>2</td>\n",
              "      <td>GO</td>\n",
              "      <td>PASSAPORTE DE EMERGÊNCIA - NÃO ICAO</td>\n",
              "      <td>1</td>\n",
              "    </tr>\n",
              "    <tr>\n",
              "      <th>1</th>\n",
              "      <td>2007</td>\n",
              "      <td>3</td>\n",
              "      <td>GO</td>\n",
              "      <td>PASSAPORTE DE EMERGÊNCIA - NÃO ICAO</td>\n",
              "      <td>5</td>\n",
              "    </tr>\n",
              "    <tr>\n",
              "      <th>2</th>\n",
              "      <td>2007</td>\n",
              "      <td>4</td>\n",
              "      <td>GO</td>\n",
              "      <td>PASSAPORTE DE EMERGÊNCIA - NÃO ICAO</td>\n",
              "      <td>2</td>\n",
              "    </tr>\n",
              "    <tr>\n",
              "      <th>3</th>\n",
              "      <td>2007</td>\n",
              "      <td>9</td>\n",
              "      <td>GO</td>\n",
              "      <td>PASSAPORTE COMUM - ICAO</td>\n",
              "      <td>1</td>\n",
              "    </tr>\n",
              "    <tr>\n",
              "      <th>4</th>\n",
              "      <td>2008</td>\n",
              "      <td>6</td>\n",
              "      <td>AC</td>\n",
              "      <td>PASSAPORTE COMUM - ICAO</td>\n",
              "      <td>8</td>\n",
              "    </tr>\n",
              "  </tbody>\n",
              "</table>\n",
              "</div>"
            ],
            "text/plain": [
              "    ANO  MES  UF                      TIPO_PASSAPORTE  QTD\n",
              "0  2007    2  GO  PASSAPORTE DE EMERGÊNCIA - NÃO ICAO    1\n",
              "1  2007    3  GO  PASSAPORTE DE EMERGÊNCIA - NÃO ICAO    5\n",
              "2  2007    4  GO  PASSAPORTE DE EMERGÊNCIA - NÃO ICAO    2\n",
              "3  2007    9  GO              PASSAPORTE COMUM - ICAO    1\n",
              "4  2008    6  AC              PASSAPORTE COMUM - ICAO    8"
            ]
          },
          "metadata": {},
          "execution_count": 6
        }
      ]
    },
    {
      "cell_type": "code",
      "metadata": {
        "colab": {
          "base_uri": "https://localhost:8080/"
        },
        "id": "FYq5W_NqTAz7",
        "outputId": "5138054e-3c24-4093-9434-8e461bfc6794"
      },
      "source": [
        "#total de linhas e colunas\n",
        "df.shape"
      ],
      "execution_count": 8,
      "outputs": [
        {
          "output_type": "execute_result",
          "data": {
            "text/plain": [
              "(9592, 5)"
            ]
          },
          "metadata": {},
          "execution_count": 8
        }
      ]
    },
    {
      "cell_type": "code",
      "metadata": {
        "colab": {
          "base_uri": "https://localhost:8080/"
        },
        "id": "MjsgissRT_WU",
        "outputId": "95d73e91-9d97-416e-a112-dfbfe4ca1d39"
      },
      "source": [
        "#tipos de dados\n",
        "df.dtypes"
      ],
      "execution_count": 11,
      "outputs": [
        {
          "output_type": "execute_result",
          "data": {
            "text/plain": [
              "ANO                 int64\n",
              "MES                 int64\n",
              "UF                 object\n",
              "TIPO_PASSAPORTE    object\n",
              "QTD                 int64\n",
              "dtype: object"
            ]
          },
          "metadata": {},
          "execution_count": 11
        }
      ]
    },
    {
      "cell_type": "code",
      "metadata": {
        "colab": {
          "base_uri": "https://localhost:8080/"
        },
        "id": "MEOjSidqU3jj",
        "outputId": "3f91471c-6b70-49ca-93d3-884475467582"
      },
      "source": [
        "#verifica se tem dados faltantes\n",
        "df.isnull().sum()"
      ],
      "execution_count": 13,
      "outputs": [
        {
          "output_type": "execute_result",
          "data": {
            "text/plain": [
              "ANO                0\n",
              "MES                0\n",
              "UF                 0\n",
              "TIPO_PASSAPORTE    0\n",
              "QTD                0\n",
              "dtype: int64"
            ]
          },
          "metadata": {},
          "execution_count": 13
        }
      ]
    },
    {
      "cell_type": "code",
      "metadata": {
        "colab": {
          "base_uri": "https://localhost:8080/"
        },
        "id": "HabACpi3TXvv",
        "outputId": "db43588e-24cc-42b3-c72f-da7c9f8ecd73"
      },
      "source": [
        "#total de passaportes emitidos\n",
        "df[\"QTD\"].sum()"
      ],
      "execution_count": 10,
      "outputs": [
        {
          "output_type": "execute_result",
          "data": {
            "text/plain": [
              "26356875"
            ]
          },
          "metadata": {},
          "execution_count": 10
        }
      ]
    },
    {
      "cell_type": "code",
      "metadata": {
        "colab": {
          "base_uri": "https://localhost:8080/"
        },
        "id": "t8DwxFibTnjT",
        "outputId": "79c34556-83c3-451b-d148-d2491aa71238"
      },
      "source": [
        "#total por ano\n",
        "df.groupby(\"ANO\")[\"QTD\"].sum()"
      ],
      "execution_count": 126,
      "outputs": [
        {
          "output_type": "execute_result",
          "data": {
            "text/plain": [
              "ANO\n",
              "2007          9\n",
              "2008     555418\n",
              "2009    1144094\n",
              "2010    1587179\n",
              "2011    2103094\n",
              "2012    1943282\n",
              "2013    2130995\n",
              "2014    2280287\n",
              "2015    2299335\n",
              "2016    2249702\n",
              "2017    2561838\n",
              "2018    2894306\n",
              "2019    2985999\n",
              "2020    1030660\n",
              "2021     590677\n",
              "Name: QTD, dtype: int64"
            ]
          },
          "metadata": {},
          "execution_count": 126
        }
      ]
    },
    {
      "cell_type": "code",
      "metadata": {
        "colab": {
          "base_uri": "https://localhost:8080/",
          "height": 265
        },
        "id": "-_vf83zwUtVq",
        "outputId": "86df6cda-06aa-4c89-8455-f59e26a22e08"
      },
      "source": [
        "#total por tipo de passaporte, resetando index e ordenando por total\n",
        "total_tipo = df.groupby(\"TIPO_PASSAPORTE\")[\"QTD\"].sum().sort_values(ascending=False).reset_index()\n",
        "total_tipo"
      ],
      "execution_count": 27,
      "outputs": [
        {
          "output_type": "execute_result",
          "data": {
            "text/html": [
              "<div>\n",
              "<style scoped>\n",
              "    .dataframe tbody tr th:only-of-type {\n",
              "        vertical-align: middle;\n",
              "    }\n",
              "\n",
              "    .dataframe tbody tr th {\n",
              "        vertical-align: top;\n",
              "    }\n",
              "\n",
              "    .dataframe thead th {\n",
              "        text-align: right;\n",
              "    }\n",
              "</style>\n",
              "<table border=\"1\" class=\"dataframe\">\n",
              "  <thead>\n",
              "    <tr style=\"text-align: right;\">\n",
              "      <th></th>\n",
              "      <th>TIPO_PASSAPORTE</th>\n",
              "      <th>QTD</th>\n",
              "    </tr>\n",
              "  </thead>\n",
              "  <tbody>\n",
              "    <tr>\n",
              "      <th>0</th>\n",
              "      <td>PASSAPORTE COMUM - ICAO</td>\n",
              "      <td>26249715</td>\n",
              "    </tr>\n",
              "    <tr>\n",
              "      <th>1</th>\n",
              "      <td>PASSAPORTE DE EMERGÊNCIA - NÃO ICAO</td>\n",
              "      <td>58525</td>\n",
              "    </tr>\n",
              "    <tr>\n",
              "      <th>2</th>\n",
              "      <td>PASSAPORTE DE EMERGÊNCIA - ICAO</td>\n",
              "      <td>41351</td>\n",
              "    </tr>\n",
              "    <tr>\n",
              "      <th>3</th>\n",
              "      <td>PASSAPORTE PARA ESTRANGEIRO - ICAO</td>\n",
              "      <td>3909</td>\n",
              "    </tr>\n",
              "    <tr>\n",
              "      <th>4</th>\n",
              "      <td>LAISSEZ-PASSER - ICAO</td>\n",
              "      <td>1676</td>\n",
              "    </tr>\n",
              "    <tr>\n",
              "      <th>5</th>\n",
              "      <td>LAISSEZ-PASSER - NÃO ICAO</td>\n",
              "      <td>1193</td>\n",
              "    </tr>\n",
              "    <tr>\n",
              "      <th>6</th>\n",
              "      <td>PASSAPORTE PARA ESTRANGEIRO - NÃO ICAO</td>\n",
              "      <td>506</td>\n",
              "    </tr>\n",
              "  </tbody>\n",
              "</table>\n",
              "</div>"
            ],
            "text/plain": [
              "                          TIPO_PASSAPORTE       QTD\n",
              "0                 PASSAPORTE COMUM - ICAO  26249715\n",
              "1     PASSAPORTE DE EMERGÊNCIA - NÃO ICAO     58525\n",
              "2         PASSAPORTE DE EMERGÊNCIA - ICAO     41351\n",
              "3      PASSAPORTE PARA ESTRANGEIRO - ICAO      3909\n",
              "4                   LAISSEZ-PASSER - ICAO      1676\n",
              "5               LAISSEZ-PASSER - NÃO ICAO      1193\n",
              "6  PASSAPORTE PARA ESTRANGEIRO - NÃO ICAO       506"
            ]
          },
          "metadata": {},
          "execution_count": 27
        }
      ]
    },
    {
      "cell_type": "code",
      "metadata": {
        "colab": {
          "base_uri": "https://localhost:8080/",
          "height": 637
        },
        "id": "HAwF9u60VR3S",
        "outputId": "ff014ef1-7578-4e8b-d02e-ffb310ae1175"
      },
      "source": [
        "#grafico total por estado\n",
        "df.groupby([\"UF\"])[\"QTD\"].sum().plot.barh(title=\"Total por Estado\", figsize=(10, 10))\n",
        "plt.xlabel(\"Total x Milhao\")\n",
        "plt.ylabel(\"Estado\")"
      ],
      "execution_count": 108,
      "outputs": [
        {
          "output_type": "execute_result",
          "data": {
            "text/plain": [
              "Text(0, 0.5, 'Estado')"
            ]
          },
          "metadata": {},
          "execution_count": 108
        },
        {
          "output_type": "display_data",
          "data": {
            "image/png": "[encoded data removed]",
            "text/plain": [
              "<Figure size 720x720 with 1 Axes>"
            ]
          },
          "metadata": {
            "needs_background": "light"
          }
        }
      ]
    },
    {
      "cell_type": "code",
      "metadata": {
        "colab": {
          "base_uri": "https://localhost:8080/",
          "height": 498
        },
        "id": "lVA8a5GcnhHV",
        "outputId": "89296e89-109a-475e-e708-81e447f640c6"
      },
      "source": [
        "#grafico total por ano\n",
        "df.groupby([\"ANO\"])[\"QTD\"].sum().plot.pie(title=\"Total por Ano\", figsize=(8, 8))"
      ],
      "execution_count": 113,
      "outputs": [
        {
          "output_type": "execute_result",
          "data": {
            "text/plain": [
              "<matplotlib.axes._subplots.AxesSubplot at 0x7f1d4532a450>"
            ]
          },
          "metadata": {},
          "execution_count": 113
        },
        {
          "output_type": "display_data",
          "data": {
            "image/png": "[encoded data removed]",
            "text/plain": [
              "<Figure size 576x576 with 1 Axes>"
            ]
          },
          "metadata": {}
        }
      ]
    },
    {
      "cell_type": "code",
      "metadata": {
        "id": "Xp4ruhn_hHn2"
      },
      "source": [
        "#filtrar dados do ano de 2020\n",
        "df_2020 = df[df[\"ANO\"] == 2020]"
      ],
      "execution_count": 71,
      "outputs": []
    },
    {
      "cell_type": "code",
      "metadata": {
        "colab": {
          "base_uri": "https://localhost:8080/",
          "height": 313
        },
        "id": "5LgoQAg9XAsG",
        "outputId": "e447bfcd-8ef1-4cd1-f900-6416131d81fd"
      },
      "source": [
        "#grafico total de passaportes de 2020, por mes\n",
        "df_2020.groupby(\"MES\")[\"QTD\"].sum().plot.bar(title=\"Total de 2020 por Mes\")\n",
        "plt.xlabel(\"Mes\")\n",
        "plt.ylabel(\"Total\")"
      ],
      "execution_count": 115,
      "outputs": [
        {
          "output_type": "execute_result",
          "data": {
            "text/plain": [
              "Text(0, 0.5, 'Total')"
            ]
          },
          "metadata": {},
          "execution_count": 115
        },
        {
          "output_type": "display_data",
          "data": {
            "image/png": "[encoded data removed]",
            "text/plain": [
              "<Figure size 432x288 with 1 Axes>"
            ]
          },
          "metadata": {
            "needs_background": "light"
          }
        }
      ]
    },
    {
      "cell_type": "code",
      "metadata": {
        "id": "8FjBEsKJrlkN"
      },
      "source": [
        "#filtrar dados de 2019 para comparar com ano de pandemia\n",
        "df_2019 = df[df[\"ANO\"] == 2019]"
      ],
      "execution_count": 124,
      "outputs": []
    },
    {
      "cell_type": "code",
      "metadata": {
        "colab": {
          "base_uri": "https://localhost:8080/",
          "height": 279
        },
        "id": "H_HAVbkQhgmE",
        "outputId": "aa4df8f2-4d82-44a2-e83a-7dd4bf81d555"
      },
      "source": [
        "with pd.plotting.plot_params.use(\"x_compat\", True):\n",
        "    df_2020.groupby(\"MES\")[\"QTD\"].sum().plot(color=\"r\")\n",
        "    df_2019.groupby(\"MES\")[\"QTD\"].sum().plot(color=\"g\")"
      ],
      "execution_count": 125,
      "outputs": [
        {
          "output_type": "display_data",
          "data": {
            "image/png": "[encoded data removed]",
            "text/plain": [
              "<Figure size 432x288 with 1 Axes>"
            ]
          },
          "metadata": {
            "needs_background": "light"
          }
        }
      ]
    },
    {
      "cell_type": "code",
      "metadata": {
        "id": "dgjri6iYj8Cv"
      },
      "source": [
        ""
      ],
      "execution_count": null,
      "outputs": []
    }
  ]
}